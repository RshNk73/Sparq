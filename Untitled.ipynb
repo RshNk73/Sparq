{
 "cells": [
  {
   "cell_type": "code",
   "execution_count": 2,
   "metadata": {},
   "outputs": [
    {
     "data": {
      "text/plain": [
       "(b'checking for sbcl...  OK\\nchecking SBCL version... OKchecking for a BSD-compatible install... /usr/bin/install -c\\nchecking whether build environment is sane... yes\\nchecking for a thread-safe mkdir -p... /bin/mkdir -p\\nchecking for gawk... no\\nchecking for mawk... mawk\\nchecking whether make sets $(MAKE)... yes\\nchecking whether make supports nested variables... yes\\nchecking build system type... ',\n",
       " None)"
      ]
     },
     "execution_count": 2,
     "metadata": {},
     "output_type": "execute_result"
    }
   ],
   "source": [
    "import subprocess\n",
    "\n",
    "# command = ['ls', '-l']\n",
    "command = ['./configure','make','./sparq --help']\n",
    "proc = subprocess.Popen(command, stdout=subprocess.PIPE)\n",
    "\n",
    "try:\n",
    "    outs, errs = proc.communicate(timeout=15)\n",
    "except TimeoutExpired:\n",
    "    proc.kill()\n",
    "    outs, errs = proc.communicate()\n",
    "outs, errs\n",
    "\n",
    "# text = p.stdout.read()\n",
    "# print(text)\n",
    "# retcode = p.wait()"
   ]
  },
  {
   "cell_type": "code",
   "execution_count": 3,
   "metadata": {},
   "outputs": [
    {
     "data": {
      "text/plain": [
       "b'((b (ntpp) c)(a (tpp) c)(a (tppi) b))\\n((b (ntpp) c)(a (po) c)(a (tppi) b))\\n((b (ntpp) c)(a (ntpp) c)(a (tppi) b))\\n3 scenarios found, no further scenarios exist.\\n'"
      ]
     },
     "execution_count": 3,
     "metadata": {},
     "output_type": "execute_result"
    }
   ],
   "source": [
    "command = ['./sparq','constraint-reasoning rcc8 scenario-consistency all','((a tppi b) (b ntpp c))']\n",
    "proc = subprocess.Popen(command, stdout=subprocess.PIPE)\n",
    "\n",
    "try:\n",
    "    outs, errs = proc.communicate(timeout=15)\n",
    "except TimeoutExpired:\n",
    "    proc.kill()\n",
    "    outs, errs = proc.communicate()\n",
    "outs"
   ]
  },
  {
   "cell_type": "code",
   "execution_count": 3,
   "metadata": {},
   "outputs": [
    {
     "data": {
      "text/plain": [
       "bytes"
      ]
     },
     "execution_count": 3,
     "metadata": {},
     "output_type": "execute_result"
    }
   ],
   "source": [
    "type(outs)\n"
   ]
  },
  {
   "cell_type": "code",
   "execution_count": 17,
   "metadata": {},
   "outputs": [
    {
     "data": {
      "text/plain": [
       "b'((b (n) c)(a (n) c)(a (n) b))\\n((b (n) c)(a (ne) c)(a (e) b))\\n2 scenarios found, no further scenarios exist.\\n'"
      ]
     },
     "execution_count": 17,
     "metadata": {},
     "output_type": "execute_result"
    }
   ],
   "source": [
    "command = ['./sparq','constraint-reasoning cardir scenario-consistency all','((A (N E) B) (B N C))']\n",
    "proc = subprocess.Popen(command, stdout=subprocess.PIPE)\n",
    "\n",
    "try:\n",
    "    outs, errs = proc.communicate(timeout=15)\n",
    "except TimeoutExpired:\n",
    "    proc.kill()\n",
    "    outs, errs = proc.communicate()\n",
    "outs"
   ]
  },
  {
   "cell_type": "code",
   "execution_count": 47,
   "metadata": {},
   "outputs": [
    {
     "data": {
      "text/plain": [
       "b''"
      ]
     },
     "execution_count": 47,
     "metadata": {},
     "output_type": "execute_result"
    }
   ],
   "source": [
    "command = ['./sparq','constraint-reasoning cardir composition','((A (N E) B) (B N C))']\n",
    "proc = subprocess.Popen(command, stdout=subprocess.PIPE)\n",
    "\n",
    "try:\n",
    "    outs, errs = proc.communicate(timeout=15)\n",
    "except TimeoutExpired:\n",
    "    proc.kill()\n",
    "    outs, errs = proc.communicate()\n",
    "outs"
   ]
  },
  {
   "cell_type": "code",
   "execution_count": 13,
   "metadata": {},
   "outputs": [
    {
     "data": {
      "text/plain": [
       "b''"
      ]
     },
     "execution_count": 13,
     "metadata": {},
     "output_type": "execute_result"
    }
   ],
   "source": [
    "command = ['./sparq','compute-relation cardir','(inverse(N))']\n",
    "proc = subprocess.Popen(command, stdout=subprocess.PIPE)\n",
    "\n",
    "try:\n",
    "    outs, errs = proc.communicate(timeout=15)\n",
    "except TimeoutExpired:\n",
    "    proc.kill()\n",
    "    outs, errs = proc.communicate()\n",
    "outs"
   ]
  },
  {
   "cell_type": "code",
   "execution_count": 16,
   "metadata": {},
   "outputs": [
    {
     "data": {
      "text/plain": [
       "b''"
      ]
     },
     "execution_count": 16,
     "metadata": {},
     "output_type": "execute_result"
    }
   ],
   "source": [
    "command = ['./sparq','compute-relation dra-24 composition N E']\n",
    "proc = subprocess.Popen(command, stdout=subprocess.PIPE)\n",
    "\n",
    "try:\n",
    "    outs, errs = proc.communicate(timeout=15)\n",
    "except TimeoutExpired:\n",
    "    proc.kill()\n",
    "    outs, errs = proc.communicate()\n",
    "outs"
   ]
  },
  {
   "cell_type": "code",
   "execution_count": 21,
   "metadata": {},
   "outputs": [
    {
     "data": {
      "text/plain": [
       "b'(ne)\\n'"
      ]
     },
     "execution_count": 21,
     "metadata": {},
     "output_type": "execute_result"
    }
   ],
   "source": [
    "# composition with cardir\n",
    "command = ['./sparq','compute-relation cardir composition NE N']\n",
    "proc = subprocess.Popen(command, stdout=subprocess.PIPE)\n",
    "\n",
    "try:\n",
    "    outs, errs = proc.communicate(timeout=15)\n",
    "except TimeoutExpired:\n",
    "    proc.kill()\n",
    "    outs, errs = proc.communicate()\n",
    "outs"
   ]
  },
  {
   "cell_type": "code",
   "execution_count": 24,
   "metadata": {},
   "outputs": [
    {
     "data": {
      "text/plain": [
       "b'(ntppi)\\n'"
      ]
     },
     "execution_count": 24,
     "metadata": {},
     "output_type": "execute_result"
    }
   ],
   "source": [
    "# composition with cardir\n",
    "command = ['./sparq','compute-relation rcc-8','(converse(NTPP))']\n",
    "proc = subprocess.Popen(command, stdout=subprocess.PIPE)\n",
    "\n",
    "try:\n",
    "    outs, errs = proc.communicate(timeout=15)\n",
    "except TimeoutExpired:\n",
    "    proc.kill()\n",
    "    outs, errs = proc.communicate()\n",
    "outs"
   ]
  },
  {
   "cell_type": "code",
   "execution_count": 26,
   "metadata": {},
   "outputs": [
    {
     "data": {
      "text/plain": [
       "b'(s)\\n'"
      ]
     },
     "execution_count": 26,
     "metadata": {},
     "output_type": "execute_result"
    }
   ],
   "source": [
    "# composition with cardir\n",
    "command = ['./sparq','compute-relation cardir','(converse(N))']\n",
    "proc = subprocess.Popen(command, stdout=subprocess.PIPE)\n",
    "\n",
    "try:\n",
    "    outs, errs = proc.communicate(timeout=15)\n",
    "except TimeoutExpired:\n",
    "    proc.kill()\n",
    "    outs, errs = proc.communicate()\n",
    "outs"
   ]
  },
  {
   "cell_type": "code",
   "execution_count": 30,
   "metadata": {},
   "outputs": [
    {
     "data": {
      "text/plain": [
       "b'(b)\\n'"
      ]
     },
     "execution_count": 30,
     "metadata": {},
     "output_type": "execute_result"
    }
   ],
   "source": [
    "# composition with cardir\n",
    "command = ['./sparq','compute-relation ff','(inverse(f))']\n",
    "proc = subprocess.Popen(command, stdout=subprocess.PIPE)\n",
    "\n",
    "try:\n",
    "    outs, errs = proc.communicate(timeout=15)\n",
    "except TimeoutExpired:\n",
    "    proc.kill()\n",
    "    outs, errs = proc.communicate()\n",
    "outs"
   ]
  },
  {
   "cell_type": "code",
   "execution_count": 44,
   "metadata": {},
   "outputs": [
    {
     "data": {
      "text/plain": [
       "b'(e eq n ne nw s w)\\n'"
      ]
     },
     "execution_count": 44,
     "metadata": {},
     "output_type": "execute_result"
    }
   ],
   "source": [
    "# composition with cardir complement and converse\n",
    "command = ['./sparq','compute-relation cardir','(complement (converse (N?)))']\n",
    "proc = subprocess.Popen(command, stdout=subprocess.PIPE)\n",
    "\n",
    "try:\n",
    "    outs, errs = proc.communicate(timeout=15)\n",
    "except TimeoutExpired:\n",
    "    proc.kill()\n",
    "    outs, errs = proc.communicate()\n",
    "outs"
   ]
  },
  {
   "cell_type": "code",
   "execution_count": 45,
   "metadata": {},
   "outputs": [
    {
     "data": {
      "text/plain": [
       "b'(e eq ne nw s se sw w)\\n'"
      ]
     },
     "execution_count": 45,
     "metadata": {},
     "output_type": "execute_result"
    }
   ],
   "source": [
    "# composition with cardir complement and converse\n",
    "command = ['./sparq','compute-relation cardir','(complement(N))']\n",
    "proc = subprocess.Popen(command, stdout=subprocess.PIPE)\n",
    "\n",
    "try:\n",
    "    outs, errs = proc.communicate(timeout=15)\n",
    "except TimeoutExpired:\n",
    "    proc.kill()\n",
    "    outs, errs = proc.communicate()\n",
    "outs"
   ]
  },
  {
   "cell_type": "code",
   "execution_count": 34,
   "metadata": {},
   "outputs": [
    {
     "data": {
      "text/plain": [
       "b''"
      ]
     },
     "execution_count": 34,
     "metadata": {},
     "output_type": "execute_result"
    }
   ],
   "source": [
    "command = ['./sparq','constraint-reasoning cardir extend','((A (N E) B)', '(B N C))']\n",
    "proc = subprocess.Popen(command, stdout=subprocess.PIPE)\n",
    "\n",
    "try:\n",
    "    outs, errs = proc.communicate(timeout=15)\n",
    "except TimeoutExpired:\n",
    "    proc.kill()\n",
    "    outs, errs = proc.communicate()\n",
    "outs\n",
    "\n"
   ]
  }
 ],
 "metadata": {
  "kernelspec": {
   "display_name": "Python 3",
   "language": "python",
   "name": "python3"
  },
  "language_info": {
   "codemirror_mode": {
    "name": "ipython",
    "version": 3
   },
   "file_extension": ".py",
   "mimetype": "text/x-python",
   "name": "python",
   "nbconvert_exporter": "python",
   "pygments_lexer": "ipython3",
   "version": "3.7.4"
  }
 },
 "nbformat": 4,
 "nbformat_minor": 4
}
